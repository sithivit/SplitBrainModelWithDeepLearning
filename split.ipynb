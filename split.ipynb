{
 "cells": [
  {
   "cell_type": "code",
   "execution_count": 2,
   "id": "8b662750",
   "metadata": {},
   "outputs": [],
   "source": [
    "import tensorflow as tf\n",
    "import tensorflow_datasets as tfds\n",
    "import matplotlib.pyplot as plt\n",
    "\n",
    "(train_set, test_set), dataset_info = tfds.load('cats_vs_dogs', split=['train[:81%]', 'train[80%:]'], as_supervised=True, with_info=True)"
   ]
  },
  {
   "cell_type": "code",
   "execution_count": 3,
   "id": "1197dac3",
   "metadata": {},
   "outputs": [],
   "source": [
    "#Get only cat Image\n",
    "\n",
    "def preprocess(img, label):\n",
    "    img = tf.image.resize(img, (150, 150))\n",
    "    img = img / 255.0  # Normalize to [0,1]\n",
    "    return img, label\n",
    "\n",
    "train_set = train_set.map(preprocess).batch(32).shuffle(buffer_size=1000).prefetch(buffer_size=tf.data.experimental.AUTOTUNE)"
   ]
  },
  {
   "cell_type": "code",
   "execution_count": 30,
   "id": "d5053d76",
   "metadata": {},
   "outputs": [],
   "source": [
    "cats_dataset, dogs_dataset = [], []\n",
    "for images, labels in train_set.take(3):\n",
    "    for i in range(32):\n",
    "        if labels[i] == 0:\n",
    "            cats_dataset.append(tf.expand_dims(images[i], axis=0))\n",
    "        else:\n",
    "            dogs_dataset.append(tf.expand_dims(images[i], axis=0))\n",
    "            "
   ]
  },
  {
   "cell_type": "code",
   "execution_count": 27,
   "id": "6520c444",
   "metadata": {},
   "outputs": [],
   "source": [
    "#Load model \n",
    "classifier = tf.keras.models.load_model('cats_dogs_classifier.h5')"
   ]
  },
  {
   "cell_type": "code",
   "execution_count": 32,
   "id": "eb92826d",
   "metadata": {},
   "outputs": [
    {
     "name": "stdout",
     "output_type": "stream",
     "text": [
      "[[0.97735834 0.02264164]]\n",
      "[[9.9981278e-01 1.8726458e-04]]\n",
      "[[0.9108648 0.0891353]]\n",
      "[[0.9982009  0.00179912]]\n",
      "[[9.9998188e-01 1.8126913e-05]]\n",
      "[[0.9162476  0.08375243]]\n",
      "[[0.9899776  0.01002238]]\n",
      "[[9.9984252e-01 1.5742499e-04]]\n",
      "[[0.21056412 0.78943586]]\n",
      "[[0.90920526 0.09079468]]\n",
      "[[0.9851399  0.01486015]]\n",
      "[[9.999993e-01 7.329803e-07]]\n",
      "[[9.9999964e-01 3.3554329e-07]]\n",
      "[[9.9904758e-01 9.5240684e-04]]\n",
      "[[9.9973518e-01 2.6477425e-04]]\n",
      "[[9.9999642e-01 3.5761107e-06]]\n",
      "[[9.9939704e-01 6.0294854e-04]]\n",
      "[[0.9517443 0.0482557]]\n",
      "[[0.9962035  0.00379649]]\n",
      "[[0.94577277 0.05422725]]\n",
      "[[0.9955764  0.00442367]]\n",
      "[[9.9999988e-01 1.4838103e-07]]\n",
      "[[0.9964097  0.00359029]]\n",
      "[[0.73161405 0.2683859 ]]\n",
      "[[9.9992621e-01 7.3762065e-05]]\n",
      "[[0.7719328  0.22806723]]\n",
      "[[1.00000000e+00 1.29098705e-08]]\n",
      "[[9.9919850e-01 8.0157485e-04]]\n",
      "[[9.9998569e-01 1.4347011e-05]]\n",
      "[[9.9951005e-01 4.8994820e-04]]\n",
      "[[9.9991047e-01 8.9536385e-05]]\n",
      "[[0.97744614 0.02255381]]\n",
      "[[9.9998116e-01 1.8888924e-05]]\n",
      "[[9.9990046e-01 9.9544472e-05]]\n",
      "[[0.96602196 0.03397801]]\n",
      "[[9.999999e-01 1.478615e-07]]\n",
      "[[9.9985969e-01 1.4030503e-04]]\n",
      "[[0.99882823 0.00117177]]\n",
      "[[9.9925143e-01 7.4850785e-04]]\n",
      "[[0.99856144 0.00143852]]\n",
      "[[9.999999e-01 6.447897e-08]]\n",
      "[[0.99766856 0.00233146]]\n",
      "[[9.9994266e-01 5.7383986e-05]]\n",
      "[[9.9998653e-01 1.3502405e-05]]\n",
      "[[9.9991405e-01 8.5979744e-05]]\n",
      "[[0.99801135 0.00198862]]\n",
      "[[0.84434235 0.15565765]]\n",
      "[[9.9999535e-01 4.6760588e-06]]\n",
      "[[0.9777059  0.02229411]]\n",
      "[[0.9839987  0.01600124]]\n",
      "[[0.9824133  0.01758667]]\n",
      "[[9.999980e-01 1.982679e-06]]\n",
      "[[0.99882036 0.00117965]]\n"
     ]
    }
   ],
   "source": [
    "for i in cats_dataset:\n",
    "    print(classifier.predict(i))"
   ]
  },
  {
   "cell_type": "code",
   "execution_count": null,
   "id": "f6e27897",
   "metadata": {},
   "outputs": [],
   "source": []
  }
 ],
 "metadata": {
  "kernelspec": {
   "display_name": "RL",
   "language": "python",
   "name": "rl"
  },
  "language_info": {
   "codemirror_mode": {
    "name": "ipython",
    "version": 3
   },
   "file_extension": ".py",
   "mimetype": "text/x-python",
   "name": "python",
   "nbconvert_exporter": "python",
   "pygments_lexer": "ipython3",
   "version": "3.10.0"
  }
 },
 "nbformat": 4,
 "nbformat_minor": 5
}
