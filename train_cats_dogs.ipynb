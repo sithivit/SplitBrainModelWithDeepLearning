{
 "cells": [
  {
   "cell_type": "code",
   "execution_count": 1,
   "id": "4d6068b5",
   "metadata": {},
   "outputs": [],
   "source": [
    "import tensorflow as tf\n",
    "import tensorflow_datasets as tfds\n",
    "from tensorflow.keras.applications import VGG16"
   ]
  },
  {
   "cell_type": "code",
   "execution_count": 2,
   "id": "f43e9df0",
   "metadata": {},
   "outputs": [],
   "source": [
    "(train_set, test_set), dataset_info = tfds.load('cats_vs_dogs', split=['train[:81%]', 'train[80%:]'], as_supervised=True, with_info=True)"
   ]
  },
  {
   "cell_type": "code",
   "execution_count": 3,
   "id": "63af9157",
   "metadata": {},
   "outputs": [],
   "source": [
    "def preprocess(img, label):\n",
    "    img = tf.image.resize(img, (150, 150))\n",
    "    img = img / 255.0\n",
    "    return img, label\n",
    "\n",
    "train_set = train_set.map(preprocess).batch(32).shuffle(buffer_size=1000).prefetch(buffer_size=tf.data.experimental.AUTOTUNE)\n",
    "test_set = test_set.map(preprocess).batch(32).shuffle(buffer_size=1000).prefetch(buffer_size=tf.data.experimental.AUTOTUNE)"
   ]
  },
  {
   "cell_type": "code",
   "execution_count": 4,
   "id": "33e0d6c3",
   "metadata": {},
   "outputs": [],
   "source": [
    "base_model = VGG16(weights='imagenet', include_top=False, input_shape=(150, 150, 3))\n"
   ]
  },
  {
   "cell_type": "code",
   "execution_count": 5,
   "id": "8bd595d8",
   "metadata": {},
   "outputs": [],
   "source": [
    "# Freeze the layers\n",
    "\n",
    "for layer in base_model.layers:\n",
    "    layer.trainable = False"
   ]
  },
  {
   "cell_type": "code",
   "execution_count": 6,
   "id": "43d8bd09",
   "metadata": {},
   "outputs": [],
   "source": [
    "from tensorflow.keras.layers import Input, Flatten, Dense, Dropout\n",
    "from tensorflow.keras import Model\n",
    "\n",
    "input_layer = Input(shape=(150, 150, 3))\n",
    "x = base_model(input_layer, training=False)\n",
    "x = Flatten()(x)\n",
    "x = Dense(512, activation='relu')(x)\n",
    "output_layer = Dense(2, activation='softmax')(x)"
   ]
  },
  {
   "cell_type": "code",
   "execution_count": 7,
   "id": "e8adc393",
   "metadata": {},
   "outputs": [
    {
     "name": "stdout",
     "output_type": "stream",
     "text": [
      "Model: \"model\"\n",
      "_________________________________________________________________\n",
      " Layer (type)                Output Shape              Param #   \n",
      "=================================================================\n",
      " input_2 (InputLayer)        [(None, 150, 150, 3)]     0         \n",
      "                                                                 \n",
      " vgg16 (Functional)          (None, 4, 4, 512)         14714688  \n",
      "                                                                 \n",
      " flatten (Flatten)           (None, 8192)              0         \n",
      "                                                                 \n",
      " dense (Dense)               (None, 512)               4194816   \n",
      "                                                                 \n",
      " dense_1 (Dense)             (None, 2)                 1026      \n",
      "                                                                 \n",
      "=================================================================\n",
      "Total params: 18,910,530\n",
      "Trainable params: 4,195,842\n",
      "Non-trainable params: 14,714,688\n",
      "_________________________________________________________________\n"
     ]
    }
   ],
   "source": [
    "model = Model(inputs=input_layer, outputs=output_layer)\n",
    "model.summary()"
   ]
  },
  {
   "cell_type": "code",
   "execution_count": 8,
   "id": "7bfd610a",
   "metadata": {},
   "outputs": [],
   "source": [
    "model.compile(optimizer='adam', loss='sparse_categorical_crossentropy', metrics=['accuracy'])"
   ]
  },
  {
   "cell_type": "code",
   "execution_count": null,
   "id": "7c599dec",
   "metadata": {},
   "outputs": [
    {
     "name": "stdout",
     "output_type": "stream",
     "text": [
      "Epoch 1/5\n"
     ]
    }
   ],
   "source": [
    "model.fit(train_set, epochs=5, verbose=1, validation_data=test_set)"
   ]
  },
  {
   "cell_type": "code",
   "execution_count": null,
   "id": "eae2d1cd",
   "metadata": {},
   "outputs": [],
   "source": [
    "test_loss, test_accuracy = model.evaluate(test_set)\n",
    "model.save('cats_dogs_classifier.h5')"
   ]
  },
  {
   "cell_type": "markdown",
   "id": "2b1ee6dc",
   "metadata": {},
   "source": [
    "Classifer with VGG16 works perfectly fine\n",
    "\n",
    "Lets try same architecture but without communication between two hemi"
   ]
  },
  {
   "cell_type": "code",
   "execution_count": null,
   "id": "2466f7ea",
   "metadata": {},
   "outputs": [],
   "source": [
    "input_layer = Input(shape=(150, 150, 3))\n",
    "flatten_layer = Flatten()(input_layer)\n",
    "\n",
    "# Left Buffer\n",
    "buffer_input = Dense(512, activation='relu')(flatten_layer)\n",
    "buffer_mid = Dense(1024, activation='relu')(buffer_input)\n",
    "buffer_out = Dense(512, activation='relu')(buffer_mid)\n",
    "\n",
    "hemi_mid = Dense(1024, activation=\"relu\")(hemi_input)\n",
    "hemi_mid = Dropout(0.3)(left_hemi_mid)\n",
    "hemi_mid = Dense(512, activation=\"relu\")(hemi_mid)\n",
    "hemi_mid = Dropout(0.3)(left_hemi_mid)\n",
    "hemi_mid = Dense(256, activation=\"relu\")(hemi_mid)\n",
    "hemi_mid = Dropout(0.3)(left_hemi_mid)\n",
    "hemi_mid = Dense(64, activation=\"relu\")(hemi_mid)\n",
    "hemi_out = Dense(2, activation=\"sigmoid\", name='left_out')(hemi_mid)"
   ]
  },
  {
   "cell_type": "code",
   "execution_count": null,
   "id": "5361b1bf",
   "metadata": {},
   "outputs": [],
   "source": []
  }
 ],
 "metadata": {
  "kernelspec": {
   "display_name": "RL",
   "language": "python",
   "name": "rl"
  },
  "language_info": {
   "codemirror_mode": {
    "name": "ipython",
    "version": 3
   },
   "file_extension": ".py",
   "mimetype": "text/x-python",
   "name": "python",
   "nbconvert_exporter": "python",
   "pygments_lexer": "ipython3",
   "version": "3.10.0"
  }
 },
 "nbformat": 4,
 "nbformat_minor": 5
}
